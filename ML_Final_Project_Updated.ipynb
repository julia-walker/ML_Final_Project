{
  "nbformat": 4,
  "nbformat_minor": 0,
  "metadata": {
    "colab": {
      "provenance": [],
      "include_colab_link": true
    },
    "kernelspec": {
      "name": "python3",
      "display_name": "Python 3"
    },
    "language_info": {
      "name": "python"
    },
    "gpuClass": "standard"
  },
  "cells": [
    {
      "cell_type": "markdown",
      "metadata": {
        "id": "view-in-github",
        "colab_type": "text"
      },
      "source": [
        "<a href=\"https://colab.research.google.com/github/julia-walker/ML_Final_Project/blob/main/ML_Final_Project_Updated.ipynb\" target=\"_parent\"><img src=\"https://colab.research.google.com/assets/colab-badge.svg\" alt=\"Open In Colab\"/></a>"
      ]
    },
    {
      "cell_type": "markdown",
      "source": [
        "Notebook Setup\n"
      ],
      "metadata": {
        "id": "-20PlpUyRtrB"
      }
    },
    {
      "cell_type": "code",
      "execution_count": 1,
      "metadata": {
        "id": "fln2oqBlRL7Y",
        "colab": {
          "base_uri": "https://localhost:8080/"
        },
        "outputId": "e80df085-1867-492a-bada-c8cb7935080e"
      },
      "outputs": [
        {
          "output_type": "stream",
          "name": "stdout",
          "text": [
            "Looking in indexes: https://pypi.org/simple, https://us-python.pkg.dev/colab-wheels/public/simple/\n",
            "Collecting rasterio\n",
            "  Downloading rasterio-1.3.6-cp39-cp39-manylinux_2_17_x86_64.manylinux2014_x86_64.whl (20.1 MB)\n",
            "\u001b[2K     \u001b[90m━━━━━━━━━━━━━━━━━━━━━━━━━━━━━━━━━━━━━━━━\u001b[0m \u001b[32m20.1/20.1 MB\u001b[0m \u001b[31m38.0 MB/s\u001b[0m eta \u001b[36m0:00:00\u001b[0m\n",
            "\u001b[?25hRequirement already satisfied: click>=4.0 in /usr/local/lib/python3.9/dist-packages (from rasterio) (8.1.3)\n",
            "Requirement already satisfied: numpy>=1.18 in /usr/local/lib/python3.9/dist-packages (from rasterio) (1.22.4)\n",
            "Collecting snuggs>=1.4.1\n",
            "  Downloading snuggs-1.4.7-py3-none-any.whl (5.4 kB)\n",
            "Collecting cligj>=0.5\n",
            "  Downloading cligj-0.7.2-py3-none-any.whl (7.1 kB)\n",
            "Collecting affine\n",
            "  Downloading affine-2.4.0-py3-none-any.whl (15 kB)\n",
            "Requirement already satisfied: certifi in /usr/local/lib/python3.9/dist-packages (from rasterio) (2022.12.7)\n",
            "Requirement already satisfied: attrs in /usr/local/lib/python3.9/dist-packages (from rasterio) (22.2.0)\n",
            "Collecting click-plugins\n",
            "  Downloading click_plugins-1.1.1-py2.py3-none-any.whl (7.5 kB)\n",
            "Requirement already satisfied: setuptools in /usr/local/lib/python3.9/dist-packages (from rasterio) (57.4.0)\n",
            "Requirement already satisfied: pyparsing>=2.1.6 in /usr/local/lib/python3.9/dist-packages (from snuggs>=1.4.1->rasterio) (3.0.9)\n",
            "Installing collected packages: snuggs, cligj, click-plugins, affine, rasterio\n",
            "Successfully installed affine-2.4.0 click-plugins-1.1.1 cligj-0.7.2 rasterio-1.3.6 snuggs-1.4.7\n",
            "Looking in indexes: https://pypi.org/simple, https://us-python.pkg.dev/colab-wheels/public/simple/\n",
            "Collecting geopandas\n",
            "  Downloading geopandas-0.12.2-py3-none-any.whl (1.1 MB)\n",
            "\u001b[2K     \u001b[90m━━━━━━━━━━━━━━━━━━━━━━━━━━━━━━━━━━━━━━━━\u001b[0m \u001b[32m1.1/1.1 MB\u001b[0m \u001b[31m6.4 MB/s\u001b[0m eta \u001b[36m0:00:00\u001b[0m\n",
            "\u001b[?25hCollecting fiona>=1.8\n",
            "  Downloading Fiona-1.9.1-cp39-cp39-manylinux_2_17_x86_64.manylinux2014_x86_64.whl (16.0 MB)\n",
            "\u001b[2K     \u001b[90m━━━━━━━━━━━━━━━━━━━━━━━━━━━━━━━━━━━━━━━━\u001b[0m \u001b[32m16.0/16.0 MB\u001b[0m \u001b[31m16.4 MB/s\u001b[0m eta \u001b[36m0:00:00\u001b[0m\n",
            "\u001b[?25hRequirement already satisfied: packaging in /usr/local/lib/python3.9/dist-packages (from geopandas) (23.0)\n",
            "Requirement already satisfied: pandas>=1.0.0 in /usr/local/lib/python3.9/dist-packages (from geopandas) (1.3.5)\n",
            "Requirement already satisfied: shapely>=1.7 in /usr/local/lib/python3.9/dist-packages (from geopandas) (2.0.1)\n",
            "Collecting pyproj>=2.6.1.post1\n",
            "  Downloading pyproj-3.4.1-cp39-cp39-manylinux_2_17_x86_64.manylinux2014_x86_64.whl (7.7 MB)\n",
            "\u001b[2K     \u001b[90m━━━━━━━━━━━━━━━━━━━━━━━━━━━━━━━━━━━━━━━━\u001b[0m \u001b[32m7.7/7.7 MB\u001b[0m \u001b[31m28.0 MB/s\u001b[0m eta \u001b[36m0:00:00\u001b[0m\n",
            "\u001b[?25hRequirement already satisfied: click~=8.0 in /usr/local/lib/python3.9/dist-packages (from fiona>=1.8->geopandas) (8.1.3)\n",
            "Requirement already satisfied: click-plugins>=1.0 in /usr/local/lib/python3.9/dist-packages (from fiona>=1.8->geopandas) (1.1.1)\n",
            "Requirement already satisfied: setuptools in /usr/local/lib/python3.9/dist-packages (from fiona>=1.8->geopandas) (57.4.0)\n",
            "Requirement already satisfied: attrs>=19.2.0 in /usr/local/lib/python3.9/dist-packages (from fiona>=1.8->geopandas) (22.2.0)\n",
            "Collecting munch>=2.3.2\n",
            "  Downloading munch-2.5.0-py2.py3-none-any.whl (10 kB)\n",
            "Requirement already satisfied: cligj>=0.5 in /usr/local/lib/python3.9/dist-packages (from fiona>=1.8->geopandas) (0.7.2)\n",
            "Requirement already satisfied: certifi in /usr/local/lib/python3.9/dist-packages (from fiona>=1.8->geopandas) (2022.12.7)\n",
            "Requirement already satisfied: python-dateutil>=2.7.3 in /usr/local/lib/python3.9/dist-packages (from pandas>=1.0.0->geopandas) (2.8.2)\n",
            "Requirement already satisfied: numpy>=1.17.3 in /usr/local/lib/python3.9/dist-packages (from pandas>=1.0.0->geopandas) (1.22.4)\n",
            "Requirement already satisfied: pytz>=2017.3 in /usr/local/lib/python3.9/dist-packages (from pandas>=1.0.0->geopandas) (2022.7.1)\n",
            "Requirement already satisfied: six in /usr/local/lib/python3.9/dist-packages (from munch>=2.3.2->fiona>=1.8->geopandas) (1.15.0)\n",
            "Installing collected packages: pyproj, munch, fiona, geopandas\n",
            "Successfully installed fiona-1.9.1 geopandas-0.12.2 munch-2.5.0 pyproj-3.4.1\n",
            "Looking in indexes: https://pypi.org/simple, https://us-python.pkg.dev/colab-wheels/public/simple/\n",
            "Collecting pyshp\n",
            "  Downloading pyshp-2.3.1-py2.py3-none-any.whl (46 kB)\n",
            "\u001b[2K     \u001b[90m━━━━━━━━━━━━━━━━━━━━━━━━━━━━━━━━━━━━━━━━\u001b[0m \u001b[32m46.5/46.5 KB\u001b[0m \u001b[31m3.3 MB/s\u001b[0m eta \u001b[36m0:00:00\u001b[0m\n",
            "\u001b[?25hInstalling collected packages: pyshp\n",
            "Successfully installed pyshp-2.3.1\n",
            "Looking in indexes: https://pypi.org/simple, https://us-python.pkg.dev/colab-wheels/public/simple/\n",
            "Requirement already satisfied: shapely in /usr/local/lib/python3.9/dist-packages (2.0.1)\n",
            "Requirement already satisfied: numpy>=1.14 in /usr/local/lib/python3.9/dist-packages (from shapely) (1.22.4)\n",
            "Looking in indexes: https://pypi.org/simple, https://us-python.pkg.dev/colab-wheels/public/simple/\n",
            "Collecting descartes\n",
            "  Downloading descartes-1.1.0-py3-none-any.whl (5.8 kB)\n",
            "Requirement already satisfied: matplotlib in /usr/local/lib/python3.9/dist-packages (from descartes) (3.5.3)\n",
            "Requirement already satisfied: numpy>=1.17 in /usr/local/lib/python3.9/dist-packages (from matplotlib->descartes) (1.22.4)\n",
            "Requirement already satisfied: kiwisolver>=1.0.1 in /usr/local/lib/python3.9/dist-packages (from matplotlib->descartes) (1.4.4)\n",
            "Requirement already satisfied: pillow>=6.2.0 in /usr/local/lib/python3.9/dist-packages (from matplotlib->descartes) (8.4.0)\n",
            "Requirement already satisfied: python-dateutil>=2.7 in /usr/local/lib/python3.9/dist-packages (from matplotlib->descartes) (2.8.2)\n",
            "Requirement already satisfied: packaging>=20.0 in /usr/local/lib/python3.9/dist-packages (from matplotlib->descartes) (23.0)\n",
            "Requirement already satisfied: fonttools>=4.22.0 in /usr/local/lib/python3.9/dist-packages (from matplotlib->descartes) (4.39.0)\n",
            "Requirement already satisfied: cycler>=0.10 in /usr/local/lib/python3.9/dist-packages (from matplotlib->descartes) (0.11.0)\n",
            "Requirement already satisfied: pyparsing>=2.2.1 in /usr/local/lib/python3.9/dist-packages (from matplotlib->descartes) (3.0.9)\n",
            "Requirement already satisfied: six>=1.5 in /usr/local/lib/python3.9/dist-packages (from python-dateutil>=2.7->matplotlib->descartes) (1.15.0)\n",
            "Installing collected packages: descartes\n",
            "Successfully installed descartes-1.1.0\n",
            "Looking in indexes: https://pypi.org/simple, https://us-python.pkg.dev/colab-wheels/public/simple/\n",
            "Collecting rtree\n",
            "  Downloading Rtree-1.0.1-cp39-cp39-manylinux_2_17_x86_64.manylinux2014_x86_64.whl (1.0 MB)\n",
            "\u001b[2K     \u001b[90m━━━━━━━━━━━━━━━━━━━━━━━━━━━━━━━━━━━━━━━━\u001b[0m \u001b[32m1.0/1.0 MB\u001b[0m \u001b[31m16.6 MB/s\u001b[0m eta \u001b[36m0:00:00\u001b[0m\n",
            "\u001b[?25hInstalling collected packages: rtree\n",
            "Successfully installed rtree-1.0.1\n"
          ]
        }
      ],
      "source": [
        "# Python ≥3.5 is required\n",
        "import sys\n",
        "assert sys.version_info >= (3, 5)\n",
        "\n",
        "# Common imports\n",
        "import numpy as np\n",
        "import matplotlib as plt \n",
        "import pandas as pd\n",
        "\n",
        "\n",
        "# Extra imports for data pre- processing\n",
        "!pip install rasterio\n",
        "import rasterio \n",
        "\n",
        "!pip install geopandas\n",
        "import geopandas as gpd\n",
        "\n",
        "!pip install --upgrade pyshp\n",
        "\n",
        "!pip install --upgrade shapely\n",
        "\n",
        "!pip install --upgrade descartes\n",
        "\n",
        "!pip install --upgrade rtree\n",
        "\n",
        "from __future__ import print_function\n",
        "\n",
        "from osgeo import ogr\n"
      ]
    },
    {
      "cell_type": "markdown",
      "source": [
        "Pre-processing of Training Data"
      ],
      "metadata": {
        "id": "y8ks1Sm4BFhA"
      }
    },
    {
      "cell_type": "code",
      "source": [
        "#Code adapted from \"Importing and Using Vector data-OGR library\" tutorial by Chris Holden \n",
        "#https://ceholden.github.io/open-geo-tutorial/python/chapter_4_vector.html\n",
        "\n",
        "#download training polygon data from google drive\n",
        "!gdown 1eU1u_FC2Y1qgH-5pCz0qQT1iwXArHXsL\n",
        "!gdown 1Avi9D_HhnP-ZH_VJLEd9ckeInoAZ_X7a\n",
        "!gdown 1APoauolAvB-11SavW1NMttRTSt_LqWs5\n",
        "!gdown 15l9P6wHhxF89DMPSF3xX91ktp3jIlMXT\n",
        "\n",
        "\n",
        "# Open the dataset from the file\n",
        "dataset = ogr.Open('./polygons_SA.shp')\n",
        "# Make sure the dataset exists -- it would be None if we couldn't open it\n",
        "if not dataset:\n",
        "    print('Error: could not open dataset')\n",
        "\n"
      ],
      "metadata": {
        "colab": {
          "base_uri": "https://localhost:8080/"
        },
        "id": "Vz8GfDrbGke5",
        "outputId": "f03f3f60-386b-410d-fe30-7ea11000dfb3"
      },
      "execution_count": 2,
      "outputs": [
        {
          "output_type": "stream",
          "name": "stdout",
          "text": [
            "Downloading...\n",
            "From: https://drive.google.com/uc?id=1eU1u_FC2Y1qgH-5pCz0qQT1iwXArHXsL\n",
            "To: /content/polygons_SA.shp\n",
            "100% 8.42k/8.42k [00:00<00:00, 11.1MB/s]\n",
            "Downloading...\n",
            "From: https://drive.google.com/uc?id=1Avi9D_HhnP-ZH_VJLEd9ckeInoAZ_X7a\n",
            "To: /content/polygons_SA.prj\n",
            "100% 400/400 [00:00<00:00, 566kB/s]\n",
            "Downloading...\n",
            "From: https://drive.google.com/uc?id=1APoauolAvB-11SavW1NMttRTSt_LqWs5\n",
            "To: /content/polygons_SA.dbf\n",
            "100% 721/721 [00:00<00:00, 787kB/s]\n",
            "Downloading...\n",
            "From: https://drive.google.com/uc?id=15l9P6wHhxF89DMPSF3xX91ktp3jIlMXT\n",
            "To: /content/polygons_SA.shx\n",
            "100% 140/140 [00:00<00:00, 175kB/s]\n"
          ]
        }
      ]
    },
    {
      "cell_type": "code",
      "source": [
        "#download Vallon de Nant study area image from google drive\n",
        "!gdown 12KHX15jBRWnlgQG9orqhCb_J-fWLWXde"
      ],
      "metadata": {
        "colab": {
          "base_uri": "https://localhost:8080/"
        },
        "id": "v8jrmEAlyL9S",
        "outputId": "bf6f3ce7-1137-4092-ec4a-6dec9a361b20"
      },
      "execution_count": 3,
      "outputs": [
        {
          "output_type": "stream",
          "name": "stdout",
          "text": [
            "Downloading...\n",
            "From: https://drive.google.com/uc?id=12KHX15jBRWnlgQG9orqhCb_J-fWLWXde\n",
            "To: /content/SA_Raster.tif\n",
            "\r  0% 0.00/25.2M [00:00<?, ?B/s]\r 29% 7.34M/25.2M [00:00<00:00, 72.0MB/s]\r100% 25.2M/25.2M [00:00<00:00, 146MB/s] \n"
          ]
        }
      ]
    },
    {
      "cell_type": "code",
      "source": [
        "\n",
        "#Code adapted from \"Importing and Using Vector data-OGR library\" tutorial by Chris Holden \n",
        "#https://ceholden.github.io/open-geo-tutorial/python/chapter_4_vector.html\n",
        "\n",
        "#converting training polygons into raster with the same extent as study area raster\n",
        "%%bash\n",
        "\n",
        "# Explanation of switches:\n",
        "# -a ==> write values from the\"id\" attribute of the shapefile\n",
        "# -layer ==> the layer name of our shapefile\n",
        "# -of ==> Output raster file format\n",
        "# -a_srs ==> output spatial reference system string\n",
        "# -a_nodata ==> NODATA value for output raster\n",
        "# -te ==> target extent which matches the raster we want to create the ROI image for\n",
        "# -tr ==> target resolution, 30 x 30m\n",
        "# -ot Byte ==> Since we only have values 0 - 5, a Byte datatype is enough\n",
        "\n",
        "gdal_rasterize -a \"id\" \\\n",
        "    -l polygons_SA \\\n",
        "    -of \"GTiff\" \\\n",
        "    -a_srs \"+proj=utm +zone=32 +datum=WGS84 +units=m +no_defs\" \\\n",
        "    -a_nodata 5 \\\n",
        "    -te 351066 5117925 355542 5123967 \\\n",
        "    -tr 3 3 \\\n",
        "    -ot Byte \\\n",
        "    ./polygons_SA.shp ./training_data.gtif\n"
      ],
      "metadata": {
        "colab": {
          "base_uri": "https://localhost:8080/",
          "height": 657
        },
        "id": "BkNuQaAuuIKT",
        "outputId": "88947834-98ab-43d1-d2ab-6c7567f66c89"
      },
      "execution_count": 6,
      "outputs": [
        {
          "output_type": "stream",
          "name": "stderr",
          "text": [
            "bash: line 12: gdal_rasterize: command not found\n"
          ]
        },
        {
          "output_type": "error",
          "ename": "CalledProcessError",
          "evalue": "ignored",
          "traceback": [
            "\u001b[0;31m---------------------------------------------------------------------------\u001b[0m",
            "\u001b[0;31mCalledProcessError\u001b[0m                        Traceback (most recent call last)",
            "\u001b[0;32m<ipython-input-6-3fc524b8f083>\u001b[0m in \u001b[0;36m<module>\u001b[0;34m\u001b[0m\n\u001b[0;32m----> 1\u001b[0;31m \u001b[0mget_ipython\u001b[0m\u001b[0;34m(\u001b[0m\u001b[0;34m)\u001b[0m\u001b[0;34m.\u001b[0m\u001b[0mrun_cell_magic\u001b[0m\u001b[0;34m(\u001b[0m\u001b[0;34m'bash'\u001b[0m\u001b[0;34m,\u001b[0m \u001b[0;34m''\u001b[0m\u001b[0;34m,\u001b[0m \u001b[0;34m'\\n# Explanation of switches:\\n# -a ==> write values from the\"id\" attribute of the shapefile\\n# -layer ==> the layer name of our shapefile\\n# -of ==> Output raster file format\\n# -a_srs ==> output spatial reference system string\\n# -a_nodata ==> NODATA value for output raster\\n# -te ==> target extent which matches the raster we want to create the ROI image for\\n# -tr ==> target resolution, 30 x 30m\\n# -ot Byte ==> Since we only have values 0 - 5, a Byte datatype is enough\\n\\ngdal_rasterize -a \"id\" \\\\\\n    -l polygons_SA \\\\\\n    -of \"GTiff\" \\\\\\n    -a_srs \"+proj=utm +zone=32 +datum=WGS84 +units=m +no_defs\" \\\\\\n    -a_nodata 5 \\\\\\n    -te 351066 5117925 355542 5123967 \\\\\\n    -tr 3 3 \\\\\\n    -ot Byte \\\\\\n    ./polygons_SA.shp ./training_data.gtif\\n'\u001b[0m\u001b[0;34m)\u001b[0m\u001b[0;34m\u001b[0m\u001b[0;34m\u001b[0m\u001b[0m\n\u001b[0m",
            "\u001b[0;32m/usr/local/lib/python3.9/dist-packages/google/colab/_shell.py\u001b[0m in \u001b[0;36mrun_cell_magic\u001b[0;34m(self, magic_name, line, cell)\u001b[0m\n\u001b[1;32m    331\u001b[0m     \u001b[0;32mif\u001b[0m \u001b[0mline\u001b[0m \u001b[0;32mand\u001b[0m \u001b[0;32mnot\u001b[0m \u001b[0mcell\u001b[0m\u001b[0;34m:\u001b[0m\u001b[0;34m\u001b[0m\u001b[0;34m\u001b[0m\u001b[0m\n\u001b[1;32m    332\u001b[0m       \u001b[0mcell\u001b[0m \u001b[0;34m=\u001b[0m \u001b[0;34m' '\u001b[0m\u001b[0;34m\u001b[0m\u001b[0;34m\u001b[0m\u001b[0m\n\u001b[0;32m--> 333\u001b[0;31m     \u001b[0;32mreturn\u001b[0m \u001b[0msuper\u001b[0m\u001b[0;34m(\u001b[0m\u001b[0;34m)\u001b[0m\u001b[0;34m.\u001b[0m\u001b[0mrun_cell_magic\u001b[0m\u001b[0;34m(\u001b[0m\u001b[0mmagic_name\u001b[0m\u001b[0;34m,\u001b[0m \u001b[0mline\u001b[0m\u001b[0;34m,\u001b[0m \u001b[0mcell\u001b[0m\u001b[0;34m)\u001b[0m\u001b[0;34m\u001b[0m\u001b[0;34m\u001b[0m\u001b[0m\n\u001b[0m\u001b[1;32m    334\u001b[0m \u001b[0;34m\u001b[0m\u001b[0m\n\u001b[1;32m    335\u001b[0m \u001b[0;34m\u001b[0m\u001b[0m\n",
            "\u001b[0;32m/usr/local/lib/python3.9/dist-packages/IPython/core/interactiveshell.py\u001b[0m in \u001b[0;36mrun_cell_magic\u001b[0;34m(self, magic_name, line, cell)\u001b[0m\n\u001b[1;32m   2357\u001b[0m             \u001b[0;32mwith\u001b[0m \u001b[0mself\u001b[0m\u001b[0;34m.\u001b[0m\u001b[0mbuiltin_trap\u001b[0m\u001b[0;34m:\u001b[0m\u001b[0;34m\u001b[0m\u001b[0;34m\u001b[0m\u001b[0m\n\u001b[1;32m   2358\u001b[0m                 \u001b[0margs\u001b[0m \u001b[0;34m=\u001b[0m \u001b[0;34m(\u001b[0m\u001b[0mmagic_arg_s\u001b[0m\u001b[0;34m,\u001b[0m \u001b[0mcell\u001b[0m\u001b[0;34m)\u001b[0m\u001b[0;34m\u001b[0m\u001b[0;34m\u001b[0m\u001b[0m\n\u001b[0;32m-> 2359\u001b[0;31m                 \u001b[0mresult\u001b[0m \u001b[0;34m=\u001b[0m \u001b[0mfn\u001b[0m\u001b[0;34m(\u001b[0m\u001b[0;34m*\u001b[0m\u001b[0margs\u001b[0m\u001b[0;34m,\u001b[0m \u001b[0;34m**\u001b[0m\u001b[0mkwargs\u001b[0m\u001b[0;34m)\u001b[0m\u001b[0;34m\u001b[0m\u001b[0;34m\u001b[0m\u001b[0m\n\u001b[0m\u001b[1;32m   2360\u001b[0m             \u001b[0;32mreturn\u001b[0m \u001b[0mresult\u001b[0m\u001b[0;34m\u001b[0m\u001b[0;34m\u001b[0m\u001b[0m\n\u001b[1;32m   2361\u001b[0m \u001b[0;34m\u001b[0m\u001b[0m\n",
            "\u001b[0;32m/usr/local/lib/python3.9/dist-packages/IPython/core/magics/script.py\u001b[0m in \u001b[0;36mnamed_script_magic\u001b[0;34m(line, cell)\u001b[0m\n\u001b[1;32m    140\u001b[0m             \u001b[0;32melse\u001b[0m\u001b[0;34m:\u001b[0m\u001b[0;34m\u001b[0m\u001b[0;34m\u001b[0m\u001b[0m\n\u001b[1;32m    141\u001b[0m                 \u001b[0mline\u001b[0m \u001b[0;34m=\u001b[0m \u001b[0mscript\u001b[0m\u001b[0;34m\u001b[0m\u001b[0;34m\u001b[0m\u001b[0m\n\u001b[0;32m--> 142\u001b[0;31m             \u001b[0;32mreturn\u001b[0m \u001b[0mself\u001b[0m\u001b[0;34m.\u001b[0m\u001b[0mshebang\u001b[0m\u001b[0;34m(\u001b[0m\u001b[0mline\u001b[0m\u001b[0;34m,\u001b[0m \u001b[0mcell\u001b[0m\u001b[0;34m)\u001b[0m\u001b[0;34m\u001b[0m\u001b[0;34m\u001b[0m\u001b[0m\n\u001b[0m\u001b[1;32m    143\u001b[0m \u001b[0;34m\u001b[0m\u001b[0m\n\u001b[1;32m    144\u001b[0m         \u001b[0;31m# write a basic docstring:\u001b[0m\u001b[0;34m\u001b[0m\u001b[0;34m\u001b[0m\u001b[0m\n",
            "\u001b[0;32m<decorator-gen-103>\u001b[0m in \u001b[0;36mshebang\u001b[0;34m(self, line, cell)\u001b[0m\n",
            "\u001b[0;32m/usr/local/lib/python3.9/dist-packages/IPython/core/magic.py\u001b[0m in \u001b[0;36m<lambda>\u001b[0;34m(f, *a, **k)\u001b[0m\n\u001b[1;32m    185\u001b[0m     \u001b[0;31m# but it's overkill for just that one bit of state.\u001b[0m\u001b[0;34m\u001b[0m\u001b[0;34m\u001b[0m\u001b[0m\n\u001b[1;32m    186\u001b[0m     \u001b[0;32mdef\u001b[0m \u001b[0mmagic_deco\u001b[0m\u001b[0;34m(\u001b[0m\u001b[0marg\u001b[0m\u001b[0;34m)\u001b[0m\u001b[0;34m:\u001b[0m\u001b[0;34m\u001b[0m\u001b[0;34m\u001b[0m\u001b[0m\n\u001b[0;32m--> 187\u001b[0;31m         \u001b[0mcall\u001b[0m \u001b[0;34m=\u001b[0m \u001b[0;32mlambda\u001b[0m \u001b[0mf\u001b[0m\u001b[0;34m,\u001b[0m \u001b[0;34m*\u001b[0m\u001b[0ma\u001b[0m\u001b[0;34m,\u001b[0m \u001b[0;34m**\u001b[0m\u001b[0mk\u001b[0m\u001b[0;34m:\u001b[0m \u001b[0mf\u001b[0m\u001b[0;34m(\u001b[0m\u001b[0;34m*\u001b[0m\u001b[0ma\u001b[0m\u001b[0;34m,\u001b[0m \u001b[0;34m**\u001b[0m\u001b[0mk\u001b[0m\u001b[0;34m)\u001b[0m\u001b[0;34m\u001b[0m\u001b[0;34m\u001b[0m\u001b[0m\n\u001b[0m\u001b[1;32m    188\u001b[0m \u001b[0;34m\u001b[0m\u001b[0m\n\u001b[1;32m    189\u001b[0m         \u001b[0;32mif\u001b[0m \u001b[0mcallable\u001b[0m\u001b[0;34m(\u001b[0m\u001b[0marg\u001b[0m\u001b[0;34m)\u001b[0m\u001b[0;34m:\u001b[0m\u001b[0;34m\u001b[0m\u001b[0;34m\u001b[0m\u001b[0m\n",
            "\u001b[0;32m/usr/local/lib/python3.9/dist-packages/IPython/core/magics/script.py\u001b[0m in \u001b[0;36mshebang\u001b[0;34m(self, line, cell)\u001b[0m\n\u001b[1;32m    243\u001b[0m             \u001b[0msys\u001b[0m\u001b[0;34m.\u001b[0m\u001b[0mstderr\u001b[0m\u001b[0;34m.\u001b[0m\u001b[0mflush\u001b[0m\u001b[0;34m(\u001b[0m\u001b[0;34m)\u001b[0m\u001b[0;34m\u001b[0m\u001b[0;34m\u001b[0m\u001b[0m\n\u001b[1;32m    244\u001b[0m         \u001b[0;32mif\u001b[0m \u001b[0margs\u001b[0m\u001b[0;34m.\u001b[0m\u001b[0mraise_error\u001b[0m \u001b[0;32mand\u001b[0m \u001b[0mp\u001b[0m\u001b[0;34m.\u001b[0m\u001b[0mreturncode\u001b[0m\u001b[0;34m!=\u001b[0m\u001b[0;36m0\u001b[0m\u001b[0;34m:\u001b[0m\u001b[0;34m\u001b[0m\u001b[0;34m\u001b[0m\u001b[0m\n\u001b[0;32m--> 245\u001b[0;31m             \u001b[0;32mraise\u001b[0m \u001b[0mCalledProcessError\u001b[0m\u001b[0;34m(\u001b[0m\u001b[0mp\u001b[0m\u001b[0;34m.\u001b[0m\u001b[0mreturncode\u001b[0m\u001b[0;34m,\u001b[0m \u001b[0mcell\u001b[0m\u001b[0;34m,\u001b[0m \u001b[0moutput\u001b[0m\u001b[0;34m=\u001b[0m\u001b[0mout\u001b[0m\u001b[0;34m,\u001b[0m \u001b[0mstderr\u001b[0m\u001b[0;34m=\u001b[0m\u001b[0merr\u001b[0m\u001b[0;34m)\u001b[0m\u001b[0;34m\u001b[0m\u001b[0;34m\u001b[0m\u001b[0m\n\u001b[0m\u001b[1;32m    246\u001b[0m \u001b[0;34m\u001b[0m\u001b[0m\n\u001b[1;32m    247\u001b[0m     \u001b[0;32mdef\u001b[0m \u001b[0m_run_script\u001b[0m\u001b[0;34m(\u001b[0m\u001b[0mself\u001b[0m\u001b[0;34m,\u001b[0m \u001b[0mp\u001b[0m\u001b[0;34m,\u001b[0m \u001b[0mcell\u001b[0m\u001b[0;34m,\u001b[0m \u001b[0mto_close\u001b[0m\u001b[0;34m)\u001b[0m\u001b[0;34m:\u001b[0m\u001b[0;34m\u001b[0m\u001b[0;34m\u001b[0m\u001b[0m\n",
            "\u001b[0;31mCalledProcessError\u001b[0m: Command 'b'\\n# Explanation of switches:\\n# -a ==> write values from the\"id\" attribute of the shapefile\\n# -layer ==> the layer name of our shapefile\\n# -of ==> Output raster file format\\n# -a_srs ==> output spatial reference system string\\n# -a_nodata ==> NODATA value for output raster\\n# -te ==> target extent which matches the raster we want to create the ROI image for\\n# -tr ==> target resolution, 30 x 30m\\n# -ot Byte ==> Since we only have values 0 - 5, a Byte datatype is enough\\n\\ngdal_rasterize -a \"id\" \\\\\\n    -l polygons_SA \\\\\\n    -of \"GTiff\" \\\\\\n    -a_srs \"+proj=utm +zone=32 +datum=WGS84 +units=m +no_defs\" \\\\\\n    -a_nodata 5 \\\\\\n    -te 351066 5117925 355542 5123967 \\\\\\n    -tr 3 3 \\\\\\n    -ot Byte \\\\\\n    ./polygons_SA.shp ./training_data.gtif\\n'' returned non-zero exit status 127."
          ]
        }
      ]
    },
    {
      "cell_type": "code",
      "source": [
        "\n",
        "#Code adapted from \"classification of land cover\" tutorial by Chris Holden \n",
        "#https://ceholden.github.io/open-geo-tutorial/python/chapter_5_classification.html \n",
        "\n",
        "#Generating training dataset\n",
        "# Import Python 3's print function and division\n",
        "from __future__ import print_function, division\n",
        "\n",
        "# Import GDAL, NumPy, and matplotlib\n",
        "from osgeo import gdal, gdal_array\n",
        "import numpy as np\n",
        "import matplotlib.pyplot as plt\n",
        "%matplotlib inline\n",
        "\n",
        "# Tell GDAL to throw Python exceptions, and register all drivers\n",
        "gdal.UseExceptions()\n",
        "gdal.AllRegister()\n",
        "\n",
        "# Read in our image and ROI image\n",
        "img_ds = gdal.Open('./SA_Raster.tif', gdal.GA_ReadOnly)\n",
        "roi_ds = gdal.Open('./training_data.gtif', gdal.GA_ReadOnly)\n",
        "\n",
        "img = np.zeros((img_ds.RasterYSize, img_ds.RasterXSize, img_ds.RasterCount),\n",
        "               gdal_array.GDALTypeCodeToNumericTypeCode(img_ds.GetRasterBand(1).DataType))\n",
        "for b in range(img.shape[2]):\n",
        "    img[:, :, b] = img_ds.GetRasterBand(b + 1).ReadAsArray()\n",
        "    \n",
        "roi = roi_ds.GetRasterBand(1).ReadAsArray().astype(np.uint8)\n",
        "\n",
        "# Display training data raster\n",
        "plt.subplot(122)\n",
        "plt.imshow(roi, cmap=plt.cm.Spectral)\n",
        "plt.title('Training Data')\n",
        "\n",
        "plt.show()\n"
      ],
      "metadata": {
        "id": "-Ysg3vceDyrw"
      },
      "execution_count": null,
      "outputs": []
    },
    {
      "cell_type": "code",
      "source": [
        "#Code adapted from \"classification of land cover\" tutorial by Chris Holden \n",
        "#https://ceholden.github.io/open-geo-tutorial/python/chapter_5_classification.html \n",
        "\n",
        "#Pairing X (spectral bands) with Y(land cover class labels) for training data\n",
        "\n",
        "# How many training data samples?\n",
        "n_samples = (roi < 5).sum()\n",
        "print('We have {n} samples'.format(n=n_samples))\n",
        "\n",
        "\n",
        "# What are our classification labels?\n",
        "labels = np.unique(roi[roi < 5])\n",
        "print('The training data include {n} classes: {classes}'.format(n=labels.size, \n",
        "                                                                classes=labels))\n",
        "# We will need a \"X\" matrix containing our features, and a \"y\" array containing our labels\n",
        "#     These will have n_samples rows\n",
        "#     \n",
        "\n",
        "X = img[roi < 5, :] \n",
        "y = roi[roi < 5]\n",
        "\n",
        "\n",
        "print('X matrix is sized: {sz}'.format(sz=X.shape))\n",
        "print('y array is sized: {sz}'.format(sz=y.shape))"
      ],
      "metadata": {
        "id": "ehHrF1fkDwJw"
      },
      "execution_count": null,
      "outputs": []
    },
    {
      "cell_type": "markdown",
      "source": [
        "Implementing Machine Learning Algorithms with Default Hyperparameters\n"
      ],
      "metadata": {
        "id": "rW7BnS50FmR6"
      }
    },
    {
      "cell_type": "code",
      "source": [
        "#code for this section adopted from Tom Beucler's Machine Learning for Earth and Environmnetal Science Course\n",
        "#https://github.com/tbeucler/2022_ML_EES/tree/main/Labs\n",
        "\n",
        "#Split training data into training and test sets\n",
        "\n",
        "from sklearn.model_selection import train_test_split\n",
        "\n",
        "train_ratio = 0.75\n",
        "validation_ratio = 0.15\n",
        "test_ratio = 0.10\n",
        "\n",
        "# train is now 75% of the entire data set\n",
        "X_train, X_test, y_train, y_test = train_test_split(X, y, test_size=1 - train_ratio)\n",
        "\n",
        "# test is now 10% of the initial data set\n",
        "# validation is now 15% of the initial data set\n",
        "x_val, X_test, y_val, y_test = train_test_split(X_test, y_test, test_size=test_ratio/(test_ratio + validation_ratio)) "
      ],
      "metadata": {
        "id": "p12_-OC6IXEz"
      },
      "execution_count": null,
      "outputs": []
    },
    {
      "cell_type": "code",
      "source": [
        "#fit training data to random forest algorithm\n",
        "\n",
        "from sklearn.ensemble import RandomForestClassifier\n",
        "\n",
        "# Initialize our model with 100 trees (default)\n",
        "rf = RandomForestClassifier(n_estimators=100, oob_score=True)\n",
        "\n",
        "# Fit our model to training data\n",
        "rf = rf.fit(X_train, y_train)"
      ],
      "metadata": {
        "id": "CZNx25WqEvkh"
      },
      "execution_count": null,
      "outputs": []
    },
    {
      "cell_type": "code",
      "source": [
        "#test random forest algorithm on test set and compute accuracy scores and confusion matrx\n",
        "from sklearn import metrics\n",
        "from sklearn.metrics import accuracy_score\n",
        "from sklearn.metrics import confusion_matrix, ConfusionMatrixDisplay\n",
        "###\n",
        "y_pred = rf.predict(X_test) #prediction on the test set\n",
        "accuracy = accuracy_score(y_test, y_pred) #accuracy of the prediction\n",
        "\n",
        "print(\"Accuracy:\",metrics.accuracy_score(y_test, y_pred))\n",
        "\n",
        "cm = confusion_matrix(y_test, y_pred, normalize='pred') # Get a confusion matrix \n",
        "disp = ConfusionMatrixDisplay(confusion_matrix = cm) # Use ConfusionMatrixDisplay to visualize matrix\n",
        "disp.plot()\n",
        "\n",
        "\n",
        "\n",
        "     "
      ],
      "metadata": {
        "id": "2EFT7xErKBix"
      },
      "execution_count": null,
      "outputs": []
    },
    {
      "cell_type": "code",
      "source": [
        "#test random forest algorithm on validation set and compute accuracy scores \n",
        "y_pred2 = rf.predict(x_val) #prediction on the test set\n",
        "accuracy = accuracy_score(y_val, y_pred2) #accuracy of the prediction\n",
        "\n",
        "print(\"Accuracy:\",metrics.accuracy_score(y_val, y_pred2))"
      ],
      "metadata": {
        "id": "dhYBMyOTORvI"
      },
      "execution_count": null,
      "outputs": []
    },
    {
      "cell_type": "code",
      "source": [
        "#fit training data to SVM algorithm\n",
        "\n",
        "from sklearn import svm\n",
        "sv = svm.SVC()\n",
        "sv.fit(X_train, y_train) #fit to training data\n",
        "y_pred_svm = sv.predict(X_test) #predict on test data"
      ],
      "metadata": {
        "id": "zOF-qj0MK2y7"
      },
      "execution_count": null,
      "outputs": []
    },
    {
      "cell_type": "code",
      "source": [
        "# Accuracy score and confusion matrix\n",
        "from sklearn import metrics\n",
        "from sklearn.metrics import confusion_matrix, ConfusionMatrixDisplay\n",
        "\n",
        "accuracy_svm = accuracy_score(y_test, y_pred_svm) #accuracy of the prediction\n",
        "\n",
        "print(\"Accuracy:\",metrics.accuracy_score(y_test, y_pred_svm))\n",
        "\n",
        "cm = confusion_matrix(y_test, y_pred_svm, normalize='pred') # Get a confusion matrix\n",
        "disp = ConfusionMatrixDisplay(confusion_matrix = cm) # Use ConfusionMatrixDisplay to visualize matrix\n",
        "disp.plot()"
      ],
      "metadata": {
        "id": "X-l9lR8HLb79"
      },
      "execution_count": null,
      "outputs": []
    },
    {
      "cell_type": "code",
      "source": [
        "#repeat prediction and accuracy for validation set\n",
        "y_pred3 = sv.predict(x_val) #prediction on the test set\n",
        "accuracy = accuracy_score(y_val, y_pred3) #accuracy of the prediction\n",
        "\n",
        "print(\"Accuracy:\",metrics.accuracy_score(y_val, y_pred3))"
      ],
      "metadata": {
        "id": "HlX28wJ8QbKy"
      },
      "execution_count": null,
      "outputs": []
    },
    {
      "cell_type": "markdown",
      "source": [
        "Implementing Machine Learning Algorithms with Best Hyperparameters after Hyperparameter GridSearch"
      ],
      "metadata": {
        "id": "8gt9OJwvLfc8"
      }
    },
    {
      "cell_type": "code",
      "source": [
        "#Hyperparameter search for Random Forest\n",
        "#source: https://towardsdatascience.com/hyperparameter-tuning-the-random-forest-in-python-using-scikit-learn-28d2aa77dd74\n",
        "\n",
        "from sklearn.model_selection import GridSearchCV\n",
        "###\n",
        "# Number of trees in random forest\n",
        "n_estimators = [int(x) for x in np.linspace(start = 50, stop = 500, num = 10)]\n",
        "# Number of features to consider at every split\n",
        "max_features = [2, 3, 4]\n",
        "# Creation of the parameter grid based on the results of random search\n",
        "param_grid = {'n_estimators': n_estimators, 'max_features': max_features}\n",
        "# Random grid search for best hyperparameters: random search\n",
        "gsrf = GridSearchCV(estimator = rf, param_grid = param_grid, cv = 3, verbose=2, n_jobs = -1) #searches grid for best parameters\n",
        "gsrf.fit(X_train, y_train) # Fit the grid search to the data"
      ],
      "metadata": {
        "id": "szBlsIOm5n5q"
      },
      "execution_count": null,
      "outputs": []
    },
    {
      "cell_type": "code",
      "source": [
        "#return best number of trees (n_estimators) and maximum features to use \n",
        "best_grid = gsrf.best_params_\n",
        "best_grid\n",
        "     "
      ],
      "metadata": {
        "id": "sQqKhLRc6mFB"
      },
      "execution_count": null,
      "outputs": []
    },
    {
      "cell_type": "code",
      "source": [
        "#prediction based on best parameters for validation and test set \n",
        "y_pred_test = gsrf.predict(X_test)\n",
        "y_pred_val = gsrf.predict(x_val)\n",
        "# Calculate the accuracy of the best model over the training and test sets\n",
        "from sklearn.metrics import accuracy_score\n",
        "print(f'Accuracy over test set: {(accuracy_score(y_test,y_pred_test)):.2%}'\n",
        "f'Accuracy over validation set: {(accuracy_score(y_val,y_pred_val)):.2%}')"
      ],
      "metadata": {
        "id": "05s-o-Sd6pB3"
      },
      "execution_count": null,
      "outputs": []
    },
    {
      "cell_type": "code",
      "source": [
        "#Source: https://www.geeksforgeeks.org/svm-hyperparameter-tuning-using-gridsearchcv-ml/\n",
        "from sklearn.model_selection import GridSearchCV\n",
        "# defining parameter range\n",
        "param_grid = {'C': [0.1, 1, 10, 100, 1000]} \n",
        "  \n",
        "grid = GridSearchCV(svm.SVC(), param_grid, refit = True, verbose = 3) #searches parameters for best fit \n",
        "  \n",
        "# fitting the model for grid search\n",
        "grid.fit(X_train, y_train)\n",
        "     "
      ],
      "metadata": {
        "id": "0RW_XlndFpeJ"
      },
      "execution_count": null,
      "outputs": []
    },
    {
      "cell_type": "code",
      "source": [
        "print(grid.best_params_)"
      ],
      "metadata": {
        "id": "JtGRBgl3O2b_"
      },
      "execution_count": null,
      "outputs": []
    },
    {
      "cell_type": "code",
      "source": [
        "y_pred_train2 = grid.predict(X_train)\n",
        "y_pred_test2 = grid.predict(X_test)\n",
        "y_pred_val2 = grid.predict(x_val)\n",
        "# Calculate the accuracy of the best model over the training and test sets\n",
        "from sklearn.metrics import accuracy_score\n",
        "print(f'Accuracy over test set: {(accuracy_score(y_test,y_pred_test)):.2%}'\n",
        "f'Accuracy over validation set: {(accuracy_score(y_val,y_pred_val)):.2%}')\n"
      ],
      "metadata": {
        "id": "XqtdGEBxxnOM"
      },
      "execution_count": null,
      "outputs": []
    },
    {
      "cell_type": "code",
      "source": [
        "new_shape = (img.shape[0] * img.shape[1], img.shape[2])\n",
        "img_as_array = img[:, :, :4].reshape(new_shape)\n",
        "print('Reshaped from {o} to {n}'.format(o=img.shape,\n",
        "                                        n=img_as_array.shape))\n",
        "\n",
        "class_prediction = rf.predict(img_as_array)\n",
        "\n",
        "class_prediction = class_prediction.reshape(img[:, :, 0].shape)"
      ],
      "metadata": {
        "id": "kLW5n8xOpv--"
      },
      "execution_count": null,
      "outputs": []
    },
    {
      "cell_type": "code",
      "source": [
        "vals, counts = np.unique(class_prediction, return_counts=True)\n",
        "[print(f'{val:.2%}') for val in counts/counts.sum()];"
      ],
      "metadata": {
        "id": "0p2gTmukzZ9X"
      },
      "execution_count": null,
      "outputs": []
    },
    {
      "cell_type": "code",
      "source": [
        "# Import the colors library from matplotlib\n",
        "import matplotlib.colors as colors\n",
        "\n",
        "# Generate a list of colors to be used in the 2D map\n",
        "cmap = colors.ListedColormap(['#62B931',  # Low Vegetation, Class 0\n",
        "                              '#BFF6F7',  # Glacier, Class 1\n",
        "                              '#A68160',  # Bare Rock, Class 2\n",
        "                              '#3A6D1C',  # Forests, Class 3\n",
        "                              '#D9CBBF',  # Sediments, Class 4\n",
        "                              ])\n",
        "\n",
        "# Set the boundaries for each color\n",
        "bounds = [-.5, 0.5,1.5,2.5,3.5,4.5]\n",
        "\n",
        "# Calculate the boundary norm\n",
        "norm = colors.BoundaryNorm(bounds,\n",
        "                           cmap.N, \n",
        "                           #clip=True,\n",
        "                           )\n",
        "\n",
        "# create fig and ax object\n",
        "fig, ax = plt.subplots(dpi=300)\n",
        "\n",
        "# Create the output map\n",
        "out_map = ax.imshow(class_prediction, cmap=cmap, interpolation='none')\n",
        "\n",
        "# Create the colorbar\n",
        "cbar = fig.colorbar(out_map, \n",
        "                    ax=ax,\n",
        "                    norm=norm,\n",
        "                    boundaries = bounds,\n",
        "                    ticks = np.arange(0,5,1),\n",
        "                    spacing='proportional'\n",
        "                    )\n",
        "\n",
        "# Set labela to human readable values \n",
        "cbar.set_ticklabels(['Low Vegetation', # Class 0\n",
        "                         'Glacier', # Class 1\n",
        "                         'Bare Rock', # Class 2\n",
        "                         'Forests', # Class 3\n",
        "                         'Sediments',]) # Class 4\n",
        "plt.show()\n",
        "\n"
      ],
      "metadata": {
        "id": "BRWb5NfSPaQB"
      },
      "execution_count": null,
      "outputs": []
    },
    {
      "cell_type": "code",
      "source": [
        "\n",
        "# Save the image in memory in PNG format\n",
        "from mpl_toolkits.mplot3d import Axes3D\n",
        "import matplotlib.pyplot as plt\n",
        "import numpy as np\n",
        "\n",
        "from PIL import Image\n",
        "import io\n",
        "\n",
        "\n",
        "\n",
        "png1 = io.BytesIO()\n",
        "fig.savefig(png1, format=\"png\")\n",
        "\n",
        "# Load this image into PIL\n",
        "png2 = Image.open(png1)\n",
        "\n",
        "# Save as TIFF\n",
        "png2.save(\"LC_VDN.tiff\")\n",
        "png1.close()\n",
        "\n",
        "\n"
      ],
      "metadata": {
        "id": "D7MWX-PeSF31"
      },
      "execution_count": null,
      "outputs": []
    },
    {
      "cell_type": "code",
      "source": [
        "print(class_prediction)"
      ],
      "metadata": {
        "id": "KgQrNme8pY09"
      },
      "execution_count": null,
      "outputs": []
    }
  ]
}