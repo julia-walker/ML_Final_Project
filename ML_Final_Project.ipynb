{
  "nbformat": 4,
  "nbformat_minor": 0,
  "metadata": {
    "colab": {
      "provenance": [],
      "authorship_tag": "ABX9TyMAWCY8vLcrIHm9WgY9wKHk",
      "include_colab_link": true
    },
    "kernelspec": {
      "name": "python3",
      "display_name": "Python 3"
    },
    "language_info": {
      "name": "python"
    },
    "accelerator": "GPU",
    "gpuClass": "standard"
  },
  "cells": [
    {
      "cell_type": "markdown",
      "metadata": {
        "id": "view-in-github",
        "colab_type": "text"
      },
      "source": [
        "<a href=\"https://colab.research.google.com/github/julia-walker/ML_Final_Project/blob/main/ML_Final_Project.ipynb\" target=\"_parent\"><img src=\"https://colab.research.google.com/assets/colab-badge.svg\" alt=\"Open In Colab\"/></a>"
      ]
    },
    {
      "cell_type": "markdown",
      "source": [
        "Notebook Setup\n"
      ],
      "metadata": {
        "id": "-20PlpUyRtrB"
      }
    },
    {
      "cell_type": "code",
      "execution_count": 1,
      "metadata": {
        "id": "fln2oqBlRL7Y",
        "colab": {
          "base_uri": "https://localhost:8080/"
        },
        "outputId": "2edf71dc-8172-480f-8a90-3c9904cd7899"
      },
      "outputs": [
        {
          "output_type": "stream",
          "name": "stdout",
          "text": [
            "Looking in indexes: https://pypi.org/simple, https://us-python.pkg.dev/colab-wheels/public/simple/\n",
            "Collecting rasterio\n",
            "  Downloading rasterio-1.3.4-cp38-cp38-manylinux_2_17_x86_64.manylinux2014_x86_64.whl (20.9 MB)\n",
            "\u001b[K     |████████████████████████████████| 20.9 MB 263 kB/s \n",
            "\u001b[?25hCollecting click-plugins\n",
            "  Downloading click_plugins-1.1.1-py2.py3-none-any.whl (7.5 kB)\n",
            "Requirement already satisfied: numpy>=1.18 in /usr/local/lib/python3.8/dist-packages (from rasterio) (1.21.6)\n",
            "Collecting cligj>=0.5\n",
            "  Downloading cligj-0.7.2-py3-none-any.whl (7.1 kB)\n",
            "Requirement already satisfied: setuptools in /usr/local/lib/python3.8/dist-packages (from rasterio) (57.4.0)\n",
            "Requirement already satisfied: click>=4.0 in /usr/local/lib/python3.8/dist-packages (from rasterio) (7.1.2)\n",
            "Collecting snuggs>=1.4.1\n",
            "  Downloading snuggs-1.4.7-py3-none-any.whl (5.4 kB)\n",
            "Collecting affine\n",
            "  Downloading affine-2.3.1-py2.py3-none-any.whl (16 kB)\n",
            "Requirement already satisfied: certifi in /usr/local/lib/python3.8/dist-packages (from rasterio) (2022.12.7)\n",
            "Requirement already satisfied: attrs in /usr/local/lib/python3.8/dist-packages (from rasterio) (22.1.0)\n",
            "Requirement already satisfied: pyparsing>=2.1.6 in /usr/local/lib/python3.8/dist-packages (from snuggs>=1.4.1->rasterio) (3.0.9)\n",
            "Installing collected packages: snuggs, cligj, click-plugins, affine, rasterio\n",
            "Successfully installed affine-2.3.1 click-plugins-1.1.1 cligj-0.7.2 rasterio-1.3.4 snuggs-1.4.7\n",
            "Looking in indexes: https://pypi.org/simple, https://us-python.pkg.dev/colab-wheels/public/simple/\n",
            "Collecting geopandas\n",
            "  Downloading geopandas-0.12.2-py3-none-any.whl (1.1 MB)\n",
            "\u001b[K     |████████████████████████████████| 1.1 MB 5.2 MB/s \n",
            "\u001b[?25hRequirement already satisfied: pandas>=1.0.0 in /usr/local/lib/python3.8/dist-packages (from geopandas) (1.3.5)\n",
            "Requirement already satisfied: packaging in /usr/local/lib/python3.8/dist-packages (from geopandas) (21.3)\n",
            "Collecting fiona>=1.8\n",
            "  Downloading Fiona-1.8.22-cp38-cp38-manylinux_2_17_x86_64.manylinux2014_x86_64.whl (16.6 MB)\n",
            "\u001b[K     |████████████████████████████████| 16.6 MB 51.7 MB/s \n",
            "\u001b[?25hRequirement already satisfied: shapely>=1.7 in /usr/local/lib/python3.8/dist-packages (from geopandas) (2.0.0)\n",
            "Collecting pyproj>=2.6.1.post1\n",
            "  Downloading pyproj-3.4.1-cp38-cp38-manylinux_2_17_x86_64.manylinux2014_x86_64.whl (7.8 MB)\n",
            "\u001b[K     |████████████████████████████████| 7.8 MB 67.1 MB/s \n",
            "\u001b[?25hRequirement already satisfied: certifi in /usr/local/lib/python3.8/dist-packages (from fiona>=1.8->geopandas) (2022.12.7)\n",
            "Requirement already satisfied: cligj>=0.5 in /usr/local/lib/python3.8/dist-packages (from fiona>=1.8->geopandas) (0.7.2)\n",
            "Collecting munch\n",
            "  Downloading munch-2.5.0-py2.py3-none-any.whl (10 kB)\n",
            "Requirement already satisfied: setuptools in /usr/local/lib/python3.8/dist-packages (from fiona>=1.8->geopandas) (57.4.0)\n",
            "Requirement already satisfied: attrs>=17 in /usr/local/lib/python3.8/dist-packages (from fiona>=1.8->geopandas) (22.1.0)\n",
            "Requirement already satisfied: six>=1.7 in /usr/local/lib/python3.8/dist-packages (from fiona>=1.8->geopandas) (1.15.0)\n",
            "Requirement already satisfied: click>=4.0 in /usr/local/lib/python3.8/dist-packages (from fiona>=1.8->geopandas) (7.1.2)\n",
            "Requirement already satisfied: click-plugins>=1.0 in /usr/local/lib/python3.8/dist-packages (from fiona>=1.8->geopandas) (1.1.1)\n",
            "Requirement already satisfied: pytz>=2017.3 in /usr/local/lib/python3.8/dist-packages (from pandas>=1.0.0->geopandas) (2022.6)\n",
            "Requirement already satisfied: numpy>=1.17.3 in /usr/local/lib/python3.8/dist-packages (from pandas>=1.0.0->geopandas) (1.21.6)\n",
            "Requirement already satisfied: python-dateutil>=2.7.3 in /usr/local/lib/python3.8/dist-packages (from pandas>=1.0.0->geopandas) (2.8.2)\n",
            "Requirement already satisfied: pyparsing!=3.0.5,>=2.0.2 in /usr/local/lib/python3.8/dist-packages (from packaging->geopandas) (3.0.9)\n",
            "Installing collected packages: munch, pyproj, fiona, geopandas\n",
            "Successfully installed fiona-1.8.22 geopandas-0.12.2 munch-2.5.0 pyproj-3.4.1\n",
            "Looking in indexes: https://pypi.org/simple, https://us-python.pkg.dev/colab-wheels/public/simple/\n",
            "Collecting pyshp\n",
            "  Downloading pyshp-2.3.1-py2.py3-none-any.whl (46 kB)\n",
            "\u001b[K     |████████████████████████████████| 46 kB 2.6 MB/s \n",
            "\u001b[?25hInstalling collected packages: pyshp\n",
            "Successfully installed pyshp-2.3.1\n",
            "Looking in indexes: https://pypi.org/simple, https://us-python.pkg.dev/colab-wheels/public/simple/\n",
            "Requirement already satisfied: shapely in /usr/local/lib/python3.8/dist-packages (2.0.0)\n",
            "Requirement already satisfied: numpy>=1.14 in /usr/local/lib/python3.8/dist-packages (from shapely) (1.21.6)\n",
            "Looking in indexes: https://pypi.org/simple, https://us-python.pkg.dev/colab-wheels/public/simple/\n",
            "Requirement already satisfied: descartes in /usr/local/lib/python3.8/dist-packages (1.1.0)\n",
            "Requirement already satisfied: matplotlib in /usr/local/lib/python3.8/dist-packages (from descartes) (3.2.2)\n",
            "Requirement already satisfied: kiwisolver>=1.0.1 in /usr/local/lib/python3.8/dist-packages (from matplotlib->descartes) (1.4.4)\n",
            "Requirement already satisfied: pyparsing!=2.0.4,!=2.1.2,!=2.1.6,>=2.0.1 in /usr/local/lib/python3.8/dist-packages (from matplotlib->descartes) (3.0.9)\n",
            "Requirement already satisfied: cycler>=0.10 in /usr/local/lib/python3.8/dist-packages (from matplotlib->descartes) (0.11.0)\n",
            "Requirement already satisfied: numpy>=1.11 in /usr/local/lib/python3.8/dist-packages (from matplotlib->descartes) (1.21.6)\n",
            "Requirement already satisfied: python-dateutil>=2.1 in /usr/local/lib/python3.8/dist-packages (from matplotlib->descartes) (2.8.2)\n",
            "Requirement already satisfied: six>=1.5 in /usr/local/lib/python3.8/dist-packages (from python-dateutil>=2.1->matplotlib->descartes) (1.15.0)\n",
            "Looking in indexes: https://pypi.org/simple, https://us-python.pkg.dev/colab-wheels/public/simple/\n",
            "Collecting rtree\n",
            "  Downloading Rtree-1.0.1-cp38-cp38-manylinux_2_17_x86_64.manylinux2014_x86_64.whl (1.0 MB)\n",
            "\u001b[K     |████████████████████████████████| 1.0 MB 5.1 MB/s \n",
            "\u001b[?25hInstalling collected packages: rtree\n",
            "Successfully installed rtree-1.0.1\n"
          ]
        }
      ],
      "source": [
        "# Python ≥3.5 is required\n",
        "import sys\n",
        "assert sys.version_info >= (3, 5)\n",
        "\n",
        "# Common imports\n",
        "import numpy as np\n",
        "import matplotlib as plt \n",
        "import pandas as pd\n",
        "\n",
        "\n",
        "# Extra imports for data pre- processing\n",
        "!pip install rasterio\n",
        "import rasterio \n",
        "\n",
        "!pip install geopandas\n",
        "import geopandas as gpd\n",
        "\n",
        "!pip install --upgrade pyshp\n",
        "\n",
        "!pip install --upgrade shapely\n",
        "\n",
        "!pip install --upgrade descartes\n",
        "\n",
        "!pip install --upgrade rtree\n",
        "\n",
        "from __future__ import print_function\n",
        "\n",
        "from osgeo import ogr\n"
      ]
    },
    {
      "cell_type": "markdown",
      "source": [
        "Pre-processing of Training Data"
      ],
      "metadata": {
        "id": "y8ks1Sm4BFhA"
      }
    },
    {
      "cell_type": "code",
      "source": [
        "#Code adapted from \"Importing and Using Vector data-OGR library\" tutorial by Chris Holden \n",
        "#https://ceholden.github.io/open-geo-tutorial/python/chapter_4_vector.html\n",
        "\n",
        "#download training polygon data from google drive\n",
        "!gdown 1eU1u_FC2Y1qgH-5pCz0qQT1iwXArHXsL\n",
        "!gdown 1Avi9D_HhnP-ZH_VJLEd9ckeInoAZ_X7a\n",
        "!gdown 1APoauolAvB-11SavW1NMttRTSt_LqWs5\n",
        "!gdown 15l9P6wHhxF89DMPSF3xX91ktp3jIlMXT\n",
        "\n",
        "\n",
        "# Open the dataset from the file\n",
        "dataset = ogr.Open('./polygons_SA.shp')\n",
        "# Make sure the dataset exists -- it would be None if we couldn't open it\n",
        "if not dataset:\n",
        "    print('Error: could not open dataset')\n",
        "\n"
      ],
      "metadata": {
        "colab": {
          "base_uri": "https://localhost:8080/"
        },
        "id": "Vz8GfDrbGke5",
        "outputId": "6297aee2-f88b-43aa-8531-65051065368a"
      },
      "execution_count": 2,
      "outputs": [
        {
          "output_type": "stream",
          "name": "stdout",
          "text": [
            "Downloading...\n",
            "From: https://drive.google.com/uc?id=1eU1u_FC2Y1qgH-5pCz0qQT1iwXArHXsL\n",
            "To: /content/polygons_SA.shp\n",
            "100% 8.42k/8.42k [00:00<00:00, 1.71MB/s]\n",
            "Downloading...\n",
            "From: https://drive.google.com/uc?id=1Avi9D_HhnP-ZH_VJLEd9ckeInoAZ_X7a\n",
            "To: /content/polygons_SA.prj\n",
            "100% 400/400 [00:00<00:00, 539kB/s]\n",
            "Downloading...\n",
            "From: https://drive.google.com/uc?id=1APoauolAvB-11SavW1NMttRTSt_LqWs5\n",
            "To: /content/polygons_SA.dbf\n",
            "100% 721/721 [00:00<00:00, 97.1kB/s]\n",
            "Downloading...\n",
            "From: https://drive.google.com/uc?id=15l9P6wHhxF89DMPSF3xX91ktp3jIlMXT\n",
            "To: /content/polygons_SA.shx\n",
            "100% 140/140 [00:00<00:00, 205kB/s]\n"
          ]
        }
      ]
    },
    {
      "cell_type": "code",
      "source": [
        "#download Vallon de Nant study area image from google drive\n",
        "!gdown 12KHX15jBRWnlgQG9orqhCb_J-fWLWXde"
      ],
      "metadata": {
        "colab": {
          "base_uri": "https://localhost:8080/"
        },
        "id": "v8jrmEAlyL9S",
        "outputId": "d8d9daed-182a-499f-8382-d6ba68219fdc"
      },
      "execution_count": 3,
      "outputs": [
        {
          "output_type": "stream",
          "name": "stdout",
          "text": [
            "Downloading...\n",
            "From: https://drive.google.com/uc?id=12KHX15jBRWnlgQG9orqhCb_J-fWLWXde\n",
            "To: /content/SA_Raster.tif\n",
            "\r  0% 0.00/25.2M [00:00<?, ?B/s]\r 71% 17.8M/25.2M [00:00<00:00, 178MB/s]\r100% 25.2M/25.2M [00:00<00:00, 205MB/s]\n"
          ]
        }
      ]
    },
    {
      "cell_type": "code",
      "source": [
        "\n",
        "#Code adapted from \"Importing and Using Vector data-OGR library\" tutorial by Chris Holden \n",
        "#https://ceholden.github.io/open-geo-tutorial/python/chapter_4_vector.html\n",
        "\n",
        "#converting training polygons into raster with the same extent as study area raster\n",
        "%%bash\n",
        "\n",
        "# Explanation of switches:\n",
        "# -a ==> write values from the\"id\" attribute of the shapefile\n",
        "# -layer ==> the layer name of our shapefile\n",
        "# -of ==> Output raster file format\n",
        "# -a_srs ==> output spatial reference system string\n",
        "# -a_nodata ==> NODATA value for output raster\n",
        "# -te ==> target extent which matches the raster we want to create the ROI image for\n",
        "# -tr ==> target resolution, 30 x 30m\n",
        "# -ot Byte ==> Since we only have values 0 - 5, a Byte datatype is enough\n",
        "\n",
        "gdal_rasterize -a \"id\" \\\n",
        "    -l polygons_SA \\\n",
        "    -of \"GTiff\" \\\n",
        "    -a_srs \"+proj=utm +zone=32 +datum=WGS84 +units=m +no_defs\" \\\n",
        "    -a_nodata 5 \\\n",
        "    -te 351066 5117925 355542 5123967 \\\n",
        "    -tr 3 3 \\\n",
        "    -ot Byte \\\n",
        "    ./polygons_SA.shp ./training_data.gtif\n"
      ],
      "metadata": {
        "colab": {
          "base_uri": "https://localhost:8080/"
        },
        "id": "BkNuQaAuuIKT",
        "outputId": "d03f6b37-fd3e-4194-d791-47a87adff2bf"
      },
      "execution_count": 4,
      "outputs": [
        {
          "output_type": "stream",
          "name": "stdout",
          "text": [
            "0...10...20...30...40...50...60...70...80...90...100 - done.\n"
          ]
        }
      ]
    },
    {
      "cell_type": "code",
      "source": [
        "\n",
        "#Code adapted from \"classification of land cover\" tutorial by Chris Holden \n",
        "#https://ceholden.github.io/open-geo-tutorial/python/chapter_5_classification.html \n",
        "\n",
        "#Generating training dataset\n",
        "# Import Python 3's print function and division\n",
        "from __future__ import print_function, division\n",
        "\n",
        "# Import GDAL, NumPy, and matplotlib\n",
        "from osgeo import gdal, gdal_array\n",
        "import numpy as np\n",
        "import matplotlib.pyplot as plt\n",
        "%matplotlib inline\n",
        "\n",
        "# Tell GDAL to throw Python exceptions, and register all drivers\n",
        "gdal.UseExceptions()\n",
        "gdal.AllRegister()\n",
        "\n",
        "# Read in our image and ROI image\n",
        "img_ds = gdal.Open('./SA_Raster.tif', gdal.GA_ReadOnly)\n",
        "roi_ds = gdal.Open('./training_data.gtif', gdal.GA_ReadOnly)\n",
        "\n",
        "img = np.zeros((img_ds.RasterYSize, img_ds.RasterXSize, img_ds.RasterCount),\n",
        "               gdal_array.GDALTypeCodeToNumericTypeCode(img_ds.GetRasterBand(1).DataType))\n",
        "for b in range(img.shape[2]):\n",
        "    img[:, :, b] = img_ds.GetRasterBand(b + 1).ReadAsArray()\n",
        "    \n",
        "roi = roi_ds.GetRasterBand(1).ReadAsArray().astype(np.uint8)\n",
        "\n",
        "# Display training data raster\n",
        "plt.subplot(122)\n",
        "plt.imshow(roi, cmap=plt.cm.Spectral)\n",
        "plt.title('Training Data')\n",
        "\n",
        "plt.show()\n"
      ],
      "metadata": {
        "colab": {
          "base_uri": "https://localhost:8080/",
          "height": 269
        },
        "id": "-Ysg3vceDyrw",
        "outputId": "f3069ec9-1102-4b30-e9fd-07e12db43a80"
      },
      "execution_count": 5,
      "outputs": [
        {
          "output_type": "display_data",
          "data": {
            "text/plain": [
              "<Figure size 432x288 with 1 Axes>"
            ],
            "image/png": "[encoded data removed]"
          },
          "metadata": {
            "needs_background": "light"
          }
        }
      ]
    },
    {
      "cell_type": "code",
      "source": [
        "#Code adapted from \"classification of land cover\" tutorial by Chris Holden \n",
        "#https://ceholden.github.io/open-geo-tutorial/python/chapter_5_classification.html \n",
        "\n",
        "#Pairing X (spectral bands) with Y(land cover class labels) for training data\n",
        "\n",
        "# How many training data samples?\n",
        "n_samples = (roi < 5).sum()\n",
        "print('We have {n} samples'.format(n=n_samples))\n",
        "\n",
        "\n",
        "# What are our classification labels?\n",
        "labels = np.unique(roi[roi < 5])\n",
        "print('The training data include {n} classes: {classes}'.format(n=labels.size, \n",
        "                                                                classes=labels))\n",
        "# We will need a \"X\" matrix containing our features, and a \"y\" array containing our labels\n",
        "#     These will have n_samples rows\n",
        "#     \n",
        "\n",
        "X = img[roi < 5, :] \n",
        "y = roi[roi < 5]\n",
        "\n",
        "\n",
        "print('X matrix is sized: {sz}'.format(sz=X.shape))\n",
        "print('y array is sized: {sz}'.format(sz=y.shape))"
      ],
      "metadata": {
        "colab": {
          "base_uri": "https://localhost:8080/"
        },
        "id": "ehHrF1fkDwJw",
        "outputId": "59d8136c-f5f0-4c25-ab37-6d49b79ad461"
      },
      "execution_count": 6,
      "outputs": [
        {
          "output_type": "stream",
          "name": "stdout",
          "text": [
            "We have 30362 samples\n",
            "The training data include 5 classes: [0 1 2 3 4]\n",
            "X matrix is sized: (30362, 4)\n",
            "y array is sized: (30362,)\n"
          ]
        }
      ]
    },
    {
      "cell_type": "markdown",
      "source": [
        "Implementing Machine Learning Algorithms with Default Hyperparameters\n"
      ],
      "metadata": {
        "id": "rW7BnS50FmR6"
      }
    },
    {
      "cell_type": "code",
      "source": [
        "#code for this section adopted from Tom Beucler's Machine Learning for Earth and Environmnetal Science Course\n",
        "#https://github.com/tbeucler/2022_ML_EES/tree/main/Labs\n",
        "\n",
        "#Split training data into training and test sets\n",
        "\n",
        "from sklearn.model_selection import train_test_split\n",
        "\n",
        "train_ratio = 0.75\n",
        "validation_ratio = 0.15\n",
        "test_ratio = 0.10\n",
        "\n",
        "# train is now 75% of the entire data set\n",
        "X_train, X_test, y_train, y_test = train_test_split(X, y, test_size=1 - train_ratio)\n",
        "\n",
        "# test is now 10% of the initial data set\n",
        "# validation is now 15% of the initial data set\n",
        "x_val, X_test, y_val, y_test = train_test_split(X_test, y_test, test_size=test_ratio/(test_ratio + validation_ratio)) "
      ],
      "metadata": {
        "id": "p12_-OC6IXEz"
      },
      "execution_count": 7,
      "outputs": []
    },
    {
      "cell_type": "code",
      "source": [
        "#fit training data to random forest algorithm\n",
        "\n",
        "from sklearn.ensemble import RandomForestClassifier\n",
        "\n",
        "# Initialize our model with 100 trees (default)\n",
        "rf = RandomForestClassifier(n_estimators=100, oob_score=True)\n",
        "\n",
        "# Fit our model to training data\n",
        "rf = rf.fit(X_train, y_train)"
      ],
      "metadata": {
        "id": "CZNx25WqEvkh"
      },
      "execution_count": 8,
      "outputs": []
    },
    {
      "cell_type": "code",
      "source": [
        "#test random forest algorithm on test set and compute accuracy scores and confusion matrx\n",
        "from sklearn import metrics\n",
        "from sklearn.metrics import accuracy_score\n",
        "from sklearn.metrics import confusion_matrix, ConfusionMatrixDisplay\n",
        "###\n",
        "y_pred = rf.predict(X_test) #prediction on the test set\n",
        "accuracy = accuracy_score(y_test, y_pred) #accuracy of the prediction\n",
        "\n",
        "print(\"Accuracy:\",metrics.accuracy_score(y_test, y_pred))\n",
        "\n",
        "cm = confusion_matrix(y_test, y_pred, normalize='pred') # Get a confusion matrix \n",
        "disp = ConfusionMatrixDisplay(confusion_matrix = cm) # Use ConfusionMatrixDisplay to visualize matrix\n",
        "disp.plot()\n",
        "\n",
        "\n",
        "\n",
        "     "
      ],
      "metadata": {
        "colab": {
          "base_uri": "https://localhost:8080/",
          "height": 319
        },
        "id": "2EFT7xErKBix",
        "outputId": "7b3e1b36-24df-48c3-e64b-93cc4ae9223e"
      },
      "execution_count": 9,
      "outputs": [
        {
          "output_type": "stream",
          "name": "stdout",
          "text": [
            "Accuracy: 0.967072769180112\n"
          ]
        },
        {
          "output_type": "execute_result",
          "data": {
            "text/plain": [
              "<sklearn.metrics._plot.confusion_matrix.ConfusionMatrixDisplay at 0x7fac28da3640>"
            ]
          },
          "metadata": {},
          "execution_count": 9
        },
        {
          "output_type": "display_data",
          "data": {
            "text/plain": [
              "<Figure size 432x288 with 2 Axes>"
            ],
            "image/png": "[encoded data removed]"
          },
          "metadata": {
            "needs_background": "light"
          }
        }
      ]
    },
    {
      "cell_type": "code",
      "source": [
        "#test random forest algorithm on validation set and compute accuracy scores \n",
        "y_pred2 = rf.predict(x_val) #prediction on the test set\n",
        "accuracy = accuracy_score(y_val, y_pred2) #accuracy of the prediction\n",
        "\n",
        "print(\"Accuracy:\",metrics.accuracy_score(y_val, y_pred2))"
      ],
      "metadata": {
        "colab": {
          "base_uri": "https://localhost:8080/"
        },
        "id": "dhYBMyOTORvI",
        "outputId": "3078be3c-6a20-442d-896b-7d6266935447"
      },
      "execution_count": 10,
      "outputs": [
        {
          "output_type": "stream",
          "name": "stdout",
          "text": [
            "Accuracy: 0.9681598594642072\n"
          ]
        }
      ]
    },
    {
      "cell_type": "code",
      "source": [
        "#fit training data to SVM algorithm\n",
        "\n",
        "from sklearn import svm\n",
        "sv = svm.SVC()\n",
        "sv.fit(X_train, y_train) #fit to training data\n",
        "y_pred_svm = sv.predict(X_test) #predict on test data"
      ],
      "metadata": {
        "id": "zOF-qj0MK2y7"
      },
      "execution_count": 11,
      "outputs": []
    },
    {
      "cell_type": "code",
      "source": [
        "# Accuracy score and confusion matrix\n",
        "from sklearn import metrics\n",
        "from sklearn.metrics import confusion_matrix, ConfusionMatrixDisplay\n",
        "\n",
        "accuracy_svm = accuracy_score(y_test, y_pred_svm) #accuracy of the prediction\n",
        "\n",
        "print(\"Accuracy:\",metrics.accuracy_score(y_test, y_pred_svm))\n",
        "\n",
        "cm = confusion_matrix(y_test, y_pred_svm, normalize='pred') # Get a confusion matrix\n",
        "disp = ConfusionMatrixDisplay(confusion_matrix = cm) # Use ConfusionMatrixDisplay to visualize matrix\n",
        "disp.plot()"
      ],
      "metadata": {
        "colab": {
          "base_uri": "https://localhost:8080/",
          "height": 319
        },
        "id": "X-l9lR8HLb79",
        "outputId": "9afe2ae7-f2a2-4557-a613-8cf7ab1aa13e"
      },
      "execution_count": 12,
      "outputs": [
        {
          "output_type": "stream",
          "name": "stdout",
          "text": [
            "Accuracy: 0.9446822522225881\n"
          ]
        },
        {
          "output_type": "execute_result",
          "data": {
            "text/plain": [
              "<sklearn.metrics._plot.confusion_matrix.ConfusionMatrixDisplay at 0x7fac20906f40>"
            ]
          },
          "metadata": {},
          "execution_count": 12
        },
        {
          "output_type": "display_data",
          "data": {
            "text/plain": [
              "<Figure size 432x288 with 2 Axes>"
            ],
            "image/png": "[encoded data removed]"
          },
          "metadata": {
            "needs_background": "light"
          }
        }
      ]
    },
    {
      "cell_type": "code",
      "source": [
        "#repeat prediction and accuracy for validation set\n",
        "y_pred3 = sv.predict(x_val) #prediction on the test set\n",
        "accuracy = accuracy_score(y_val, y_pred3) #accuracy of the prediction\n",
        "\n",
        "print(\"Accuracy:\",metrics.accuracy_score(y_val, y_pred3))"
      ],
      "metadata": {
        "colab": {
          "base_uri": "https://localhost:8080/"
        },
        "id": "HlX28wJ8QbKy",
        "outputId": "58174c5e-894f-40b1-844e-0de143f7489e"
      },
      "execution_count": 75,
      "outputs": [
        {
          "output_type": "stream",
          "name": "stdout",
          "text": [
            "Accuracy: 0.9523495827843654\n"
          ]
        }
      ]
    },
    {
      "cell_type": "markdown",
      "source": [
        "Implementing Machine Learning Algorithms with Best Hyperparameters after Hyperparameter GridSearch"
      ],
      "metadata": {
        "id": "8gt9OJwvLfc8"
      }
    },
    {
      "cell_type": "code",
      "source": [
        "#Hyperparameter search for Random Forest\n",
        "#source: https://towardsdatascience.com/hyperparameter-tuning-the-random-forest-in-python-using-scikit-learn-28d2aa77dd74\n",
        "\n",
        "from sklearn.model_selection import GridSearchCV\n",
        "###\n",
        "# Number of trees in random forest\n",
        "n_estimators = [int(x) for x in np.linspace(start = 50, stop = 500, num = 10)]\n",
        "# Number of features to consider at every split\n",
        "max_features = [2, 3, 4]\n",
        "# Creation of the parameter grid based on the results of random search\n",
        "param_grid = {'n_estimators': n_estimators, 'max_features': max_features}\n",
        "# Random grid search for best hyperparameters: random search\n",
        "gsrf = GridSearchCV(estimator = rf, param_grid = param_grid, cv = 3, verbose=2, n_jobs = -1) #searches grid for best parameters\n",
        "gsrf.fit(X_train, y_train) # Fit the grid search to the data"
      ],
      "metadata": {
        "colab": {
          "base_uri": "https://localhost:8080/"
        },
        "id": "szBlsIOm5n5q",
        "outputId": "2b319ea2-3d3a-4a95-d5c9-2facc0cb143e"
      },
      "execution_count": 53,
      "outputs": [
        {
          "output_type": "stream",
          "name": "stdout",
          "text": [
            "Fitting 3 folds for each of 30 candidates, totalling 90 fits\n"
          ]
        },
        {
          "output_type": "execute_result",
          "data": {
            "text/plain": [
              "GridSearchCV(cv=3, estimator=RandomForestClassifier(oob_score=True), n_jobs=-1,\n",
              "             param_grid={'max_features': [2, 3, 4],\n",
              "                         'n_estimators': [50, 100, 150, 200, 250, 300, 350, 400,\n",
              "                                          450, 500]},\n",
              "             verbose=2)"
            ]
          },
          "metadata": {},
          "execution_count": 53
        }
      ]
    },
    {
      "cell_type": "code",
      "source": [
        "#return best number of trees (n_estimators) and maximum features to use \n",
        "best_grid = gsrf.best_params_\n",
        "best_grid\n",
        "     "
      ],
      "metadata": {
        "colab": {
          "base_uri": "https://localhost:8080/"
        },
        "id": "sQqKhLRc6mFB",
        "outputId": "6417c937-ae0d-4392-8764-63404ef7da48"
      },
      "execution_count": 55,
      "outputs": [
        {
          "output_type": "execute_result",
          "data": {
            "text/plain": [
              "{'max_features': 3, 'n_estimators': 300}"
            ]
          },
          "metadata": {},
          "execution_count": 55
        }
      ]
    },
    {
      "cell_type": "code",
      "source": [
        "#prediction based on best parameters for validation and test set \n",
        "y_pred_test = gsrf.predict(X_test)\n",
        "y_pred_val = gsrf.predict(x_val)\n",
        "# Calculate the accuracy of the best model over the training and test sets\n",
        "from sklearn.metrics import accuracy_score\n",
        "print(f'Accuracy over test set: {(accuracy_score(y_test,y_pred_test)):.2%}'\n",
        "f'Accuracy over validation set: {(accuracy_score(y_val,y_pred_val)):.2%}')"
      ],
      "metadata": {
        "colab": {
          "base_uri": "https://localhost:8080/"
        },
        "id": "05s-o-Sd6pB3",
        "outputId": "77869b76-a1b8-4340-a60c-fd09af88c4b3"
      },
      "execution_count": 65,
      "outputs": [
        {
          "output_type": "stream",
          "name": "stdout",
          "text": [
            "Accuracy over training set: 100.00% \n",
            "Accuracy over test set: 96.58%Accuracy over validation set: 96.64%\n"
          ]
        }
      ]
    },
    {
      "cell_type": "code",
      "source": [
        "#Source: https://www.geeksforgeeks.org/svm-hyperparameter-tuning-using-gridsearchcv-ml/\n",
        "from sklearn.model_selection import GridSearchCV\n",
        "# defining parameter range\n",
        "param_grid = {'C': [0.1, 1, 10, 100, 1000]} \n",
        "  \n",
        "grid = GridSearchCV(svm.SVC(), param_grid, refit = True, verbose = 3) #searches parameters for best fit \n",
        "  \n",
        "# fitting the model for grid search\n",
        "grid.fit(X_train, y_train)\n",
        "     "
      ],
      "metadata": {
        "id": "0RW_XlndFpeJ",
        "colab": {
          "base_uri": "https://localhost:8080/"
        },
        "outputId": "ce9ac5bb-01d1-4f70-ab52-53590b442160"
      },
      "execution_count": 67,
      "outputs": [
        {
          "output_type": "stream",
          "name": "stdout",
          "text": [
            "Fitting 5 folds for each of 5 candidates, totalling 25 fits\n",
            "[CV 1/5] END .............................C=0.1;, score=0.931 total time=   3.0s\n",
            "[CV 2/5] END .............................C=0.1;, score=0.922 total time=   3.0s\n",
            "[CV 3/5] END .............................C=0.1;, score=0.927 total time=   3.3s\n",
            "[CV 4/5] END .............................C=0.1;, score=0.920 total time=   3.0s\n",
            "[CV 5/5] END .............................C=0.1;, score=0.933 total time=   3.0s\n",
            "[CV 1/5] END ...............................C=1;, score=0.950 total time=   2.2s\n",
            "[CV 2/5] END ...............................C=1;, score=0.948 total time=   2.5s\n",
            "[CV 3/5] END ...............................C=1;, score=0.950 total time=   2.3s\n",
            "[CV 4/5] END ...............................C=1;, score=0.944 total time=   2.2s\n",
            "[CV 5/5] END ...............................C=1;, score=0.948 total time=   2.2s\n",
            "[CV 1/5] END ..............................C=10;, score=0.955 total time=   2.0s\n",
            "[CV 2/5] END ..............................C=10;, score=0.952 total time=   3.2s\n",
            "[CV 3/5] END ..............................C=10;, score=0.953 total time=   1.7s\n",
            "[CV 4/5] END ..............................C=10;, score=0.950 total time=   2.5s\n",
            "[CV 5/5] END ..............................C=10;, score=0.955 total time=   1.7s\n",
            "[CV 1/5] END .............................C=100;, score=0.957 total time=   1.5s\n",
            "[CV 2/5] END .............................C=100;, score=0.954 total time=   1.5s\n",
            "[CV 3/5] END .............................C=100;, score=0.953 total time=   1.8s\n",
            "[CV 4/5] END .............................C=100;, score=0.952 total time=   1.5s\n",
            "[CV 5/5] END .............................C=100;, score=0.956 total time=   1.4s\n",
            "[CV 1/5] END ............................C=1000;, score=0.959 total time=   1.5s\n",
            "[CV 2/5] END ............................C=1000;, score=0.955 total time=   1.5s\n",
            "[CV 3/5] END ............................C=1000;, score=0.956 total time=   1.5s\n",
            "[CV 4/5] END ............................C=1000;, score=0.954 total time=   1.5s\n",
            "[CV 5/5] END ............................C=1000;, score=0.958 total time=   1.8s\n"
          ]
        },
        {
          "output_type": "execute_result",
          "data": {
            "text/plain": [
              "GridSearchCV(estimator=SVC(), param_grid={'C': [0.1, 1, 10, 100, 1000]},\n",
              "             verbose=3)"
            ]
          },
          "metadata": {},
          "execution_count": 67
        }
      ]
    },
    {
      "cell_type": "code",
      "source": [
        "print(grid.best_params_)"
      ],
      "metadata": {
        "colab": {
          "base_uri": "https://localhost:8080/"
        },
        "id": "JtGRBgl3O2b_",
        "outputId": "89c96f16-f2bb-403a-c727-e067cb4f3477"
      },
      "execution_count": 68,
      "outputs": [
        {
          "output_type": "stream",
          "name": "stdout",
          "text": [
            "{'C': 1000}\n"
          ]
        }
      ]
    },
    {
      "cell_type": "code",
      "source": [
        "y_pred_train2 = grid.predict(X_train)\n",
        "y_pred_test2 = grid.predict(X_test)\n",
        "y_pred_val2 = grid.predict(x_val)\n",
        "# Calculate the accuracy of the best model over the training and test sets\n",
        "from sklearn.metrics import accuracy_score\n",
        "print(f'Accuracy over test set: {(accuracy_score(y_test,y_pred_test)):.2%}'\n",
        "f'Accuracy over validation set: {(accuracy_score(y_val,y_pred_val)):.2%}')\n"
      ],
      "metadata": {
        "colab": {
          "base_uri": "https://localhost:8080/"
        },
        "id": "XqtdGEBxxnOM",
        "outputId": "167d4a6f-8848-4152-d0b6-9cd8c8c3a38e"
      },
      "execution_count": 69,
      "outputs": [
        {
          "output_type": "stream",
          "name": "stdout",
          "text": [
            "Accuracy over training set: 100.00% \n",
            "Accuracy over test set: 96.58%Accuracy over validation set: 96.64%\n"
          ]
        }
      ]
    }
  ]
}